{
 "cells": [
  {
   "cell_type": "code",
   "execution_count": 8,
   "metadata": {},
   "outputs": [],
   "source": [
    "from sklearn import datasets, linear_model\n",
    "import pandas as pd\n",
    "\n",
    "data=pd.DataFrame({'Heat Flux':[10.858,10.617,10.183,9.7003,9.652,10.086,9.459,8.3972,7.6251,\n",
    "                                7.1907,7.046,6.9494,6.7081,6.3221,6.0325,5.7429,5.5016,5.2603,\n",
    "                                5.1638,5.0673,4.9708,4.8743,4.7777,4.7295,4.633,4.4882,4.3917,\n",
    "                                4.2951,4.2469,4.0056,3.716,3.523,3.4265,3.3782,3.4265,3.3782,3.3299,3.3299,3.4265]\n",
    "                   })\n",
    "target=pd.DataFrame({'Skin Temperature':[31.002,31.021,31.058,31.095,31.133,31.188,31.226,31.263,\n",
    "                                         31.319,31.356,31.412,31.468,31.524,31.581,31.618,31.674,\n",
    "                                         31.712,31.768,31.825,31.862,31.919,31.975,32.013,32.07,32.126,32.164,\n",
    "                                      32.221,32.259,32.296,32.334,32.391,32.448,32.505,\n",
    "                                         32.543,32.6,32.657,32.696,32.753,32.791]})"
   ]
  },
  {
   "cell_type": "code",
   "execution_count": 10,
   "metadata": {},
   "outputs": [],
   "source": [
    "lm=linear_model.LinearRegression()\n",
    "model=lm.fit(data,target)"
   ]
  },
  {
   "cell_type": "code",
   "execution_count": 12,
   "metadata": {},
   "outputs": [
    {
     "name": "stdout",
     "output_type": "stream",
     "text": [
      "Linear regression score: 0.896567\n",
      "Linear model coefficients: [[-0.22078912]]\n",
      "Linear model y intercept: 33.169938\n"
     ]
    }
   ],
   "source": [
    "predictions=lm.predict(data)\n",
    "print(\"Linear regression score: %f\" %lm.score(data,target))\n",
    "print(\"Linear model coefficients: \" + str(lm.coef_))\n",
    "print(\"Linear model y intercept: %f\" % lm.intercept_)"
   ]
  },
  {
   "cell_type": "code",
   "execution_count": 147,
   "metadata": {},
   "outputs": [],
   "source": [
    "import numpy as np\n",
    "import matplotlib.pyplot as plt\n",
    "from sklearn.tree import DecisionTreeClassifier, export_graphviz\n",
    "import graphviz\n",
    "A=list([\"T\"]*5)+list([\"F\"]*20)+list([\"T\"]*20)+list([\"F\"]* 5)+list([\"F\"]*25)+list([\"F\"]*25)\n",
    "B=list([\"T\"]*5)+list([\"T\"]*20)+list([\"F\"]*20)+list([\"F\"]* 5)+list([\"T\"]*25)+list([\"F\"]*25)\n",
    "C=list([\"T\"]*5)+list([\"T\"]*20)+list([\"T\"]*20)+list([\"T\"]* 5)+list([\"F\"]*25)+list([\"F\"]*25)\n",
    "data=pd.DataFrame({'A':A,'B':B,'C':C})\n",
    "\n",
    "target=pd.DataFrame({'+':list([\"1\"]*5)+list(['0']*20)+list([\"1\"]*20)+list(['0']*5)+list([\"1\"]*25)+list(['0']*25),\n",
    "                    '-':list([\"0\"]*5)+list(['1']*20)+list([\"0\"]*20)+list(['1']*5)+list([\"0\"]*25)+list(['1']*25)})\n",
    "data[data.columns.values] = data[data.columns.values].astype('category')\n",
    "data[data.columns.values] = data[data.columns.values].apply(lambda x: x.cat.codes)\n",
    "target[target.columns.values] = target[target.columns.values].astype('category')\n",
    "target[target.columns.values] = target[target.columns.values].apply(lambda x: x.cat.codes)"
   ]
  },
  {
   "cell_type": "code",
   "execution_count": 148,
   "metadata": {},
   "outputs": [
    {
     "data": {
      "text/plain": [
       "0.8"
      ]
     },
     "execution_count": 148,
     "metadata": {},
     "output_type": "execute_result"
    }
   ],
   "source": [
    "dt=DecisionTreeClassifier(criterion='gini',max_depth=2)\n",
    "dt=dt.fit(data,target)\n",
    "dot_data=export_graphviz(dt,out_file=None,\n",
    "                        feature_names=data.columns.values,\n",
    "                         class_names=target.columns.values,\n",
    "                         filled=True, \n",
    "                         rounded=True,\n",
    "                         special_characters=True)\n",
    "graph=graphviz.Source(dot_data)\n",
    "graph.render('dt')\n",
    "dt.score(data,target)"
   ]
  },
  {
   "cell_type": "code",
   "execution_count": 154,
   "metadata": {},
   "outputs": [
    {
     "name": "stdout",
     "output_type": "stream",
     "text": [
      "[[-1.37609007 -1.25479491]] [1.3077314]\n"
     ]
    },
    {
     "name": "stderr",
     "output_type": "stream",
     "text": [
      "/anaconda3/lib/python3.6/site-packages/sklearn/utils/validation.py:578: DataConversionWarning: A column-vector y was passed when a 1d array was expected. Please change the shape of y to (n_samples, ), for example using ravel().\n",
      "  y = column_or_1d(y, warn=True)\n"
     ]
    }
   ],
   "source": [
    "from sklearn import svm\n",
    "data=pd.DataFrame({'x1':[0.3858,0.4871,0.9218,0.7381,0.1763,0.4057,0.9355,0.2146],\n",
    "                   'x2':[0.4687,0.611,0.4103,0.8936,0.0579,0.3529,0.8132,0.0099]})\n",
    "target=pd.DataFrame({'y':[1,-1,-1,-1,1,1,-1,1]})\n",
    "\n",
    "linear_svm=svm.SVC(kernel='linear')\n",
    "linear_svm.fit(data[['x1','x2']].values,target[['y']].values)\n",
    "print(linear_svm.coef_,linear_svm.intercept_)"
   ]
  },
  {
   "cell_type": "code",
   "execution_count": null,
   "metadata": {},
   "outputs": [],
   "source": []
  }
 ],
 "metadata": {
  "kernelspec": {
   "display_name": "Python 3",
   "language": "python",
   "name": "python3"
  },
  "language_info": {
   "codemirror_mode": {
    "name": "ipython",
    "version": 3
   },
   "file_extension": ".py",
   "mimetype": "text/x-python",
   "name": "python",
   "nbconvert_exporter": "python",
   "pygments_lexer": "ipython3",
   "version": "3.6.5"
  }
 },
 "nbformat": 4,
 "nbformat_minor": 2
}

{
 "cells": [
  {
   "cell_type": "markdown",
   "metadata": {},
   "source": [
    "# CAP 5771 - Principles of Data Mining \n",
    "Haibin Guan \n",
    "\n",
    "P.ID 6039501\n",
    "\n",
    "Email: hguna003@fiu.edu\n",
    "\n",
    "Homwork 6\n",
    "\n",
    "#### Chapter 8\n"
   ]
  },
  {
   "cell_type": "code",
   "execution_count": 2,
   "metadata": {},
   "outputs": [],
   "source": [
    "import pandas as pd\n",
    "import numpy as np\n",
    "import matplotlib.pyplot as plt\n",
    "from scipy.cluster.hierarchy import dendrogram, linkage\n",
    "from IPython.display import display, Math, Latex\n",
    "import math\n",
    "\n"
   ]
  },
  {
   "cell_type": "markdown",
   "metadata": {},
   "source": [
    "single link:\n",
    "$$ d(u,v)=min(dist(u[i],v[j])) $$\n",
    "complete link:\n",
    "$$ d(u,v)=max(dist(u[i],v[j]))  $$ "
   ]
  },
  {
   "cell_type": "code",
   "execution_count": 42,
   "metadata": {},
   "outputs": [
    {
     "data": {
      "text/plain": [
       "Index(['p1', 'p2', 'p3', 'p4', 'p5'], dtype='object')"
      ]
     },
     "execution_count": 42,
     "metadata": {},
     "output_type": "execute_result"
    }
   ],
   "source": [
    "## Immport data\n",
    "data=pd.DataFrame({'p1':[1.00,0.10,0.41,0.55,0.35],\n",
    "                   'p2':[0.10,1.00,0.64,0.47,0.98],\n",
    "                   'p3':[0.41,0.64,1.00,0.44,0.85],\n",
    "                   'p4':[0.55,0.47,0.44,1.00,0.76],\n",
    "                   'p5':[0.35,0.98,0.85,0.76,1.00]})\n",
    "rownames={0:'p1',1:'p2',2:'p3',3:'p4',4:'p5'}\n",
    "data=data.rename(index=rownames)\n",
    "data"
   ]
  },
  {
   "cell_type": "code",
   "execution_count": 55,
   "metadata": {},
   "outputs": [
    {
     "data": {
      "image/png": "[encoded data removed]",
      "text/plain": [
       "<Figure size 576x432 with 1 Axes>"
      ]
     },
     "metadata": {},
     "output_type": "display_data"
    }
   ],
   "source": [
    "# calculate full dendrogram of single link\n",
    "Z = linkage(data, 'single')\n",
    "plt.figure(figsize=(8, 6))\n",
    "plt.title('Single link Hierarchical Clustering Dendrogram')\n",
    "plt.xlabel('point index')\n",
    "plt.ylabel('similarity')\n",
    "dendrogram(\n",
    "    Z,\n",
    "    labels=data.index,\n",
    "    leaf_rotation=90.,  # rotates the x axis labels\n",
    "    leaf_font_size=8.,  # font size for the x axis labels\n",
    ")\n",
    "plt.show()"
   ]
  },
  {
   "cell_type": "code",
   "execution_count": 54,
   "metadata": {},
   "outputs": [
    {
     "data": {
      "image/png": "[encoded data removed]",
      "text/plain": [
       "<Figure size 576x432 with 1 Axes>"
      ]
     },
     "metadata": {},
     "output_type": "display_data"
    }
   ],
   "source": [
    "# calculate full dendrogram of complete link\n",
    "Z = linkage(data, 'complete')\n",
    "plt.figure(figsize=(8, 6))\n",
    "plt.title('Complete link Hierarchical Clustering Dendrogram')\n",
    "plt.xlabel('point index')\n",
    "plt.ylabel('similarity')\n",
    "dendrogram(\n",
    "    Z,\n",
    "    labels=data.index,\n",
    "    leaf_rotation=90.,  # rotates the x axis labels\n",
    "    leaf_font_size=8.,  # font size for the x axis labels\n",
    ")\n",
    "plt.show()"
   ]
  },
  {
   "cell_type": "code",
   "execution_count": null,
   "metadata": {},
   "outputs": [],
   "source": []
  },
  {
   "cell_type": "code",
   "execution_count": null,
   "metadata": {},
   "outputs": [],
   "source": []
  }
 ],
 "metadata": {
  "kernelspec": {
   "display_name": "Python 3",
   "language": "python",
   "name": "python3"
  },
  "language_info": {
   "codemirror_mode": {
    "name": "ipython",
    "version": 3
   },
   "file_extension": ".py",
   "mimetype": "text/x-python",
   "name": "python",
   "nbconvert_exporter": "python",
   "pygments_lexer": "ipython3",
   "version": "3.6.5"
  }
 },
 "nbformat": 4,
 "nbformat_minor": 2
}

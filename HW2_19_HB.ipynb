{
 "cells": [
  {
   "cell_type": "markdown",
   "metadata": {},
   "source": [
    "# CAP 5771 - Principles of Data Mining \n",
    "Haibin Guan \n",
    "\n",
    "P.ID 6039501\n",
    "\n",
    "Email: hguna003@fiu.edu\n",
    "\n",
    "Homwork 2:  Chapter 2 Excercises 2.6\n",
    "\n",
    "### Problem 19"
   ]
  },
  {
   "cell_type": "code",
   "execution_count": 3,
   "metadata": {},
   "outputs": [],
   "source": [
    "from IPython.display import display, Math, Latex\n",
    "import math"
   ]
  },
  {
   "cell_type": "markdown",
   "metadata": {},
   "source": [
    "#### Cosine Similarity formula: "
   ]
  },
  {
   "cell_type": "markdown",
   "metadata": {},
   "source": [
    "\n",
    "\n",
    "$$ Cosine\\ Similarity=\\frac{A\\cdot B }{||A|| ||B||}=\\frac{\\sum_1^n A_{i}\\cdot B_{i}}{\\sqrt{\\sum_i^nA_{i}^{2}}\\cdot \\sqrt{\\sum_i^nB_{i}^{2}}} $$\n",
    "\n",
    "#### Cosine Similarity Function:"
   ]
  },
  {
   "cell_type": "code",
   "execution_count": 4,
   "metadata": {},
   "outputs": [],
   "source": [
    "def cos_sim(x,y):\n",
    "    sumxx=0\n",
    "    sumyy=0\n",
    "    sumxy=0\n",
    "    for i in range(len(x)):\n",
    "        a=x[i]\n",
    "        b=y[i]\n",
    "        sumxy=sumxy+a*b\n",
    "        sumxx=sumxx+a*a\n",
    "        sumyy=sumyy+b*b\n",
    "    return sumxy/math.sqrt(sumxx*sumyy)"
   ]
  },
  {
   "cell_type": "markdown",
   "metadata": {},
   "source": [
    "#### Euclidean Distance formula:"
   ]
  },
  {
   "cell_type": "markdown",
   "metadata": {},
   "source": [
    "\n",
    "\n",
    "$$Euclidean \\ Distance = \\sqrt{\\sum_1^n (A_{i}-B_{i})^{2}}$$"
   ]
  },
  {
   "cell_type": "code",
   "execution_count": 5,
   "metadata": {},
   "outputs": [],
   "source": [
    "def euclidean_dist(x,y):\n",
    "    sumxy=0\n",
    "    for i in range(len(x)):\n",
    "        a=x[i]\n",
    "        b=y[i]\n",
    "        sumxy=sumxy+(a-b)*(a-b)\n",
    "    return math.sqrt(sumxy)"
   ]
  },
  {
   "cell_type": "markdown",
   "metadata": {},
   "source": [
    "#### Jaccard Index formula:"
   ]
  },
  {
   "cell_type": "markdown",
   "metadata": {},
   "source": [
    "\n",
    "$$ Jaccard = \\frac{number \\ of \\ matching\\ presences}{number \\ of attributes \\ not \\ involved \\ in \\ 00 \\ matches}=\\frac{f_{11}}{f_{10}+f_{01}+f_{11}} $$"
   ]
  },
  {
   "cell_type": "code",
   "execution_count": 6,
   "metadata": {},
   "outputs": [],
   "source": [
    "def jaccard(x, y):\n",
    "    sum01=0\n",
    "    sum10=0\n",
    "    sum11=0\n",
    "    for i in range(len(x)):\n",
    "        a=x[i]\n",
    "        b=y[i]\n",
    "        if a==1 and b==0:\n",
    "            sum10=sum10+1\n",
    "        elif a==0 and b==1:\n",
    "            sum01=sum01+1\n",
    "        elif a==1 and b==1:\n",
    "            sum11=sum11+1\n",
    "    return sum11/(sum01+sum11+sum10)"
   ]
  },
  {
   "cell_type": "markdown",
   "metadata": {},
   "source": [
    "#### Correlation formula:"
   ]
  },
  {
   "cell_type": "markdown",
   "metadata": {},
   "source": [
    "$$ Correlation=\\frac{Var(A,B)}{sd(A)\\cdot sd(B)}=\\frac{S_{AB}}{S_{A}\\cdot S_{B}} $$"
   ]
  },
  {
   "cell_type": "code",
   "execution_count": 7,
   "metadata": {},
   "outputs": [],
   "source": [
    "def corr(x, y):\n",
    "    mean_x = sum(x)/len(x)\n",
    "    mean_y = sum(y)/len(y)\n",
    "    sd_x = [i - mean_x for i in x]\n",
    "    sd_y = [i - mean_y for i in y]\n",
    "    xy = [a * b for a, b in list(zip(sd_x, sd_y))]\n",
    "    xx = [i * i for i in sd_x]\n",
    "    yy= [i * i for i in sd_y]\n",
    "    k=len(x)-1\n",
    "    if (sum(xx)/k) * (sum(yy)/k)==0:\n",
    "        print(\"Not a legal fraction\")\n",
    "    else:\n",
    "        return (sum(xy)/k) / math.sqrt((sum(xx)/k) * (sum(yy)/k))"
   ]
  },
  {
   "cell_type": "markdown",
   "metadata": {},
   "source": [
    "#### (a)   x=(1,1,1,1),y=(2,2,2,2)"
   ]
  },
  {
   "cell_type": "code",
   "execution_count": 8,
   "metadata": {},
   "outputs": [
    {
     "name": "stdout",
     "output_type": "stream",
     "text": [
      "x= (1, 1, 1, 1)\n",
      "y= (2, 2, 2, 2)\n",
      "cosine similarity: 1.0\n",
      "Euclidean similarity: 2.0\n",
      "Not a legal fraction\n",
      "Correlation: None\n"
     ]
    }
   ],
   "source": [
    "x=(1,1,1,1)\n",
    "print(\"x=\",x)\n",
    "y=(2,2,2,2)\n",
    "print(\"y=\",y)\n",
    "print(\"cosine similarity:\",cos_sim(x,y))\n",
    "print(\"Euclidean similarity:\",euclidean_dist(x,y))\n",
    "print(\"Correlation:\",corr(x,y))"
   ]
  },
  {
   "cell_type": "markdown",
   "metadata": {},
   "source": [
    "#### (b)   x=(0,1,0,1),y=(1,0,1,0)"
   ]
  },
  {
   "cell_type": "code",
   "execution_count": 9,
   "metadata": {},
   "outputs": [
    {
     "name": "stdout",
     "output_type": "stream",
     "text": [
      "x= (0, 1, 0, 1)\n",
      "y= (1, 0, 1, 0)\n",
      "cosine similarity: 0.0\n",
      "Correlation: -1.0\n",
      "Euclidean similarity: 2.0\n",
      "Jaccrad Similarity 0.0\n"
     ]
    }
   ],
   "source": [
    "x=(0,1,0,1)\n",
    "print(\"x=\",x)\n",
    "y=(1,0,1,0)\n",
    "print(\"y=\",y)\n",
    "print(\"cosine similarity:\",cos_sim(x,y))\n",
    "print(\"Correlation:\",corr(x,y))\n",
    "print(\"Euclidean similarity:\",euclidean_dist(x,y))\n",
    "print(\"Jaccrad Similarity\",jaccard(x,y))"
   ]
  },
  {
   "cell_type": "markdown",
   "metadata": {},
   "source": [
    "#### (c)   x=(0,-1,0,1),y=(1,0,-1,0)"
   ]
  },
  {
   "cell_type": "code",
   "execution_count": 10,
   "metadata": {},
   "outputs": [
    {
     "name": "stdout",
     "output_type": "stream",
     "text": [
      "x= (0, -1, 0, 1)\n",
      "y= (1, 0, -1, 0)\n",
      "cosine similarity: 0.0\n",
      "Correlation: 0.0\n",
      "Euclidean similarity: 2.0\n"
     ]
    }
   ],
   "source": [
    "x=(0,-1,0,1)\n",
    "print(\"x=\",x)\n",
    "y=(1,0,-1,0)\n",
    "print(\"y=\",y)\n",
    "print(\"cosine similarity:\",cos_sim(x,y))\n",
    "print(\"Correlation:\",corr(x,y))\n",
    "print(\"Euclidean similarity:\",euclidean_dist(x,y))"
   ]
  },
  {
   "cell_type": "markdown",
   "metadata": {},
   "source": [
    "#### (d)   x=(1,1,0,1,0,1),y=(1,1,1,0,0,1)"
   ]
  },
  {
   "cell_type": "code",
   "execution_count": 11,
   "metadata": {},
   "outputs": [
    {
     "name": "stdout",
     "output_type": "stream",
     "text": [
      "x= (1, 1, 0, 1, 0, 1)\n",
      "y= (1, 1, 1, 0, 0, 1)\n",
      "cosine similarity: 0.75\n",
      "Correlation: 0.25\n",
      "Jaccrad Similarity 0.6\n"
     ]
    }
   ],
   "source": [
    "x=(1,1,0,1,0,1)\n",
    "print(\"x=\",x)\n",
    "y=(1,1,1,0,0,1)\n",
    "print(\"y=\",y)\n",
    "print(\"cosine similarity:\",cos_sim(x,y))\n",
    "print(\"Correlation:\",corr(x,y))\n",
    "print(\"Jaccrad Similarity\",jaccard(x,y))"
   ]
  },
  {
   "cell_type": "markdown",
   "metadata": {},
   "source": [
    "#### (e)   x=(2,-1,0,2,0,-3),y=(-1,1,-1,0,0,-1)"
   ]
  },
  {
   "cell_type": "code",
   "execution_count": 12,
   "metadata": {},
   "outputs": [
    {
     "name": "stdout",
     "output_type": "stream",
     "text": [
      "x= (2, -1, 0, 2, 0, -3)\n",
      "y= (-1, 1, -1, 0, 0, -1)\n",
      "cosine similarity: 0.0\n",
      "Correlation: -5.733167046599012e-17\n"
     ]
    }
   ],
   "source": [
    "x=(2,-1,0,2,0,-3)\n",
    "print(\"x=\",x)\n",
    "y=(-1,1,-1,0,0,-1)\n",
    "print(\"y=\",y)\n",
    "print(\"cosine similarity:\",cos_sim(x,y))\n",
    "print(\"Correlation:\",corr(x,y))"
   ]
  },
  {
   "cell_type": "code",
   "execution_count": 13,
   "metadata": {},
   "outputs": [
    {
     "name": "stdout",
     "output_type": "stream",
     "text": [
      "x= (2, -1, 0, 2, 0, -3)\n",
      "y= (-1, 1, -1, 0, 0, -1)\n",
      "5\n"
     ]
    }
   ],
   "source": [
    "def hamming(x,y):\n",
    "    diffs=0\n",
    "    for a, b in zip (x,y):\n",
    "        if a!=b:\n",
    "            diffs+=1\n",
    "    return diffs\n",
    "x=(2,-1,0,2,0,-3)\n",
    "print(\"x=\",x)\n",
    "y=(-1,1,-1,0,0,-1)\n",
    "print(\"y=\",y)\n",
    "print(hamming(x,y))"
   ]
  },
  {
   "cell_type": "code",
   "execution_count": 17,
   "metadata": {},
   "outputs": [
    {
     "name": "stdout",
     "output_type": "stream",
     "text": [
      "3\n",
      "0.625\n"
     ]
    }
   ],
   "source": [
    "x=(1,0,1,0,1,0,1,1,1,0)\n",
    "y=(1,0,1,1,1,0,0,1,1,1)\n",
    "print(hamming(x,y))\n",
    "print(jaccard(x,y))\n"
   ]
  },
  {
   "cell_type": "code",
   "execution_count": null,
   "metadata": {},
   "outputs": [],
   "source": []
  },
  {
   "cell_type": "code",
   "execution_count": null,
   "metadata": {},
   "outputs": [],
   "source": []
  },
  {
   "cell_type": "code",
   "execution_count": null,
   "metadata": {},
   "outputs": [],
   "source": []
  },
  {
   "cell_type": "code",
   "execution_count": null,
   "metadata": {},
   "outputs": [],
   "source": []
  }
 ],
 "metadata": {
  "kernelspec": {
   "display_name": "Python 3",
   "language": "python",
   "name": "python3"
  },
  "language_info": {
   "codemirror_mode": {
    "name": "ipython",
    "version": 3
   },
   "file_extension": ".py",
   "mimetype": "text/x-python",
   "name": "python",
   "nbconvert_exporter": "python",
   "pygments_lexer": "ipython3",
   "version": "3.6.5"
  }
 },
 "nbformat": 4,
 "nbformat_minor": 2
}

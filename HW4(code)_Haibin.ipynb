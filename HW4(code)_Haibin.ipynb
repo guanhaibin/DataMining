{
 "cells": [
  {
   "cell_type": "markdown",
   "metadata": {},
   "source": [
    "# CAP 5771 - Principles of Data Mining \n",
    "Haibin Guan \n",
    "\n",
    "P.ID 6039501\n",
    "\n",
    "Email: hguna003@fiu.edu\n",
    "\n",
    "Homwork 4\n",
    "\n",
    "#### Chapter 4 & 5  ( Exercise 4.8 & 5.10 ) \n"
   ]
  },
  {
   "cell_type": "code",
   "execution_count": 223,
   "metadata": {},
   "outputs": [],
   "source": [
    "import pandas as pd\n",
    "import numpy as np\n",
    "import matplotlib.pyplot as plt\n",
    "from sklearn.tree import DecisionTreeClassifier, export_graphviz\n",
    "import graphviz\n",
    "from IPython.display import display, Math, Latex\n",
    "import math\n"
   ]
  },
  {
   "cell_type": "markdown",
   "metadata": {},
   "source": [
    "Given the following formulas, \n",
    "$$ Gini_{branch}=1-\\sum_iP_{i}^{2} $$\n",
    "$$ Gini_{attribute}=\\sum_kP_{k}\\times Gini_{branch} $$\n",
    "$$ Entropy=\\sum_{i=1}^c-p_{i}\\times \\log_{2}{p_{i}} $$\n",
    "$$ IG(A)=Entropy(S)-\\sum_{v \\epsilon values (A)}\\frac{|S_{v}|}{|S|}\\times Entropy(S_{v}) $$\n",
    "$$ ClassificationError=1-maxP_{j} $$  "
   ]
  },
  {
   "cell_type": "code",
   "execution_count": 263,
   "metadata": {},
   "outputs": [],
   "source": [
    "def gini_index(attribute,outcome,data):\n",
    "    total=len(data)\n",
    "    print(data[attribute].unique())\n",
    "    sum=0\n",
    "    for classes in data[outcome].unique():\n",
    "            p=float(len(data[data[outcome]==classes])/total)\n",
    "            sum+=p*p   \n",
    "    overall_gini=1-sum\n",
    "    print(\"The overall Gini Index is \",overall_gini)\n",
    "    gi=0\n",
    "    for branch in data[attribute].unique():\n",
    "        subtable=data[data[attribute]==branch]\n",
    "        subtotal=len(subtable)\n",
    "        gini=0\n",
    "        print(subtotal)\n",
    "        for classes in subtable[outcome].unique():\n",
    "            p=float(len(subtable[subtable[outcome]==classes])/subtotal)\n",
    "            gini+=p*p\n",
    "        print(1-gini)\n",
    "        gi+=(1-gini)*(subtotal/total)\n",
    "    print(\"Gini Index for the attribute \",attribute, \"is \" ,gi)\n",
    "    print(\"The Gain of Gini Index for the attribute \", attribute, \"is \", overall_gini-gi)\n",
    "    return gi\n",
    "\n",
    "def entropy(attribute,outcome,data,split_val=0):\n",
    "    if split_val!=0:\n",
    "        print('For Split Value: ',split_val)\n",
    "        new_attribute='new'\n",
    "        data[new_attribute]=''\n",
    "        data[new_attribute]=data.apply(lambda row:1 if row[attribute]>split_val else 0, axis=1)\n",
    "        attribute=new_attribute\n",
    "    total=len(data)\n",
    "    class_entropy=0\n",
    "    IG=0\n",
    "    for i in data[outcome].unique():\n",
    "        subtable=data[data[outcome]==i]\n",
    "        subtotal=len(subtable)\n",
    "        p=float(len(subtable)/total)\n",
    "        class_entropy+=-p*math.log(p,2)\n",
    "    print(\"The overal entropy is\", class_entropy)\n",
    "    print(data[attribute].unique())\n",
    "    entropy=0\n",
    "    for branch in data[attribute].unique():\n",
    "        subtable=data[data[attribute]==branch]\n",
    "        subtotal=len(subtable)\n",
    "        e=0\n",
    "        print(subtotal)\n",
    "        for classes in subtable[outcome].unique():\n",
    "            p=float(len(subtable[subtable[outcome]==classes])/subtotal)\n",
    "            e+=-p*math.log(p,2)\n",
    "        entropy+=e*(subtotal/total)\n",
    "    IG=class_entropy-entropy\n",
    "    print(\"Information Gain for the attribute \", attribute, \"is \", IG)\n",
    "    return IG\n",
    "\n",
    "def classification_error(attribute,outcome,data):\n",
    "    total=len(data)\n",
    "    print(data[attribute].unique())\n",
    "    error=0\n",
    "    print(\"The overal errot is\", error)\n",
    "    for branch in data[attribute].unique():\n",
    "        subtable=data[data[attribute]==branch]\n",
    "        subtotal=len(subtable)\n",
    "        e=0\n",
    "        print(subtotal)\n",
    "        for classes in subtable[outcome].unique():\n",
    "            p=float(len(subtable[subtable[outcome]==classes])/subtotal)\n",
    "            if e >= p:\n",
    "                continue\n",
    "            else:\n",
    "                e=p\n",
    "        error+=(1-e)*(subtotal/total)\n",
    "    print(\"Classification for the attribute \",attribute, \"is \" ,error)\n",
    "    return error\n",
    "    "
   ]
  },
  {
   "cell_type": "markdown",
   "metadata": {},
   "source": [
    "###### Problem 2"
   ]
  },
  {
   "cell_type": "markdown",
   "metadata": {},
   "source": [
    "##### a. Compute the Gini index for the overall collection of training examples"
   ]
  },
  {
   "cell_type": "code",
   "execution_count": 264,
   "metadata": {},
   "outputs": [
    {
     "name": "stdout",
     "output_type": "stream",
     "text": [
      "    Customer ID Gender Car Type   Shirt Size Class\n",
      "0             1      M   Family        Small    C0\n",
      "1             2      M   Sports       Medium    C0\n",
      "2             3      M   Sports       Medium    C0\n",
      "3             4      M   Sports        Large    C0\n",
      "4             5      M   Sports  Extra Large    C0\n",
      "5             6      M   Sports  Extra Large    C0\n",
      "6             7      F   Sports        Small    C0\n",
      "7             8      F   Sports        Small    C0\n",
      "8             9      F   Sports       Medium    C0\n",
      "9            10      F   Luxury        Large    C0\n",
      "10           11      M   Family        Large    C1\n",
      "11           12      M   Family  Extra Large    C1\n",
      "12           13      M   Family       Medium    C1\n",
      "13           14      M   Luxury  Extra Large    C1\n",
      "14           15      F   Luxury        Small    C1\n",
      "15           16      F   Luxury        Small    C1\n",
      "16           17      F   Luxury       Medium    C1\n",
      "17           18      F   Luxury       Medium    C1\n",
      "18           19      F   Luxury       Medium    C1\n",
      "19           20      F   Luxury        Large    C1\n",
      "The overall Gini Index is  0.5\n"
     ]
    }
   ],
   "source": [
    "data=pd.DataFrame({'Customer ID':[*range(1,21)],\n",
    "      'Gender':['M','M','M','M','M','M','F','F','F','F','M','M','M','M','F','F','F','F','F','F'],\n",
    "      'Car Type':['Family','Sports','Sports','Sports','Sports','Sports','Sports','Sports','Sports','Luxury','Family','Family','Family','Luxury','Luxury','Luxury','Luxury','Luxury','Luxury','Luxury'],\n",
    "      'Shirt Size':['Small','Medium','Medium','Large','Extra Large','Extra Large','Small','Small','Medium','Large','Large','Extra Large','Medium','Extra Large','Small','Small','Medium','Medium','Medium','Large'],\n",
    "      'Class':['C0','C0','C0','C0','C0','C0','C0','C0','C0','C0','C1','C1','C1','C1','C1','C1','C1','C1','C1','C1']})\n",
    "print(data)\n",
    "total=len(data)\n",
    "sum=0\n",
    "for classes in data['Class'].unique():\n",
    "        p=float(len(data[data['Class']==classes])/total)\n",
    "        sum+=p*p   \n",
    "gini=1-sum\n",
    "print(\"The overall Gini Index is \",gini)"
   ]
  },
  {
   "cell_type": "markdown",
   "metadata": {},
   "source": [
    "##### b. Compute the Gini index for the Customer ID attribute"
   ]
  },
  {
   "cell_type": "code",
   "execution_count": 265,
   "metadata": {},
   "outputs": [
    {
     "name": "stdout",
     "output_type": "stream",
     "text": [
      "[ 1  2  3  4  5  6  7  8  9 10 11 12 13 14 15 16 17 18 19 20]\n",
      "The overall Gini Index is  0.5\n",
      "1\n",
      "0.0\n",
      "1\n",
      "0.0\n",
      "1\n",
      "0.0\n",
      "1\n",
      "0.0\n",
      "1\n",
      "0.0\n",
      "1\n",
      "0.0\n",
      "1\n",
      "0.0\n",
      "1\n",
      "0.0\n",
      "1\n",
      "0.0\n",
      "1\n",
      "0.0\n",
      "1\n",
      "0.0\n",
      "1\n",
      "0.0\n",
      "1\n",
      "0.0\n",
      "1\n",
      "0.0\n",
      "1\n",
      "0.0\n",
      "1\n",
      "0.0\n",
      "1\n",
      "0.0\n",
      "1\n",
      "0.0\n",
      "1\n",
      "0.0\n",
      "1\n",
      "0.0\n",
      "Gini Index for the attribute  Customer ID is  0.0\n",
      "The Gain of Gini Index for the attribute  Customer ID is  0.5\n"
     ]
    },
    {
     "data": {
      "text/plain": [
       "0.0"
      ]
     },
     "execution_count": 265,
     "metadata": {},
     "output_type": "execute_result"
    }
   ],
   "source": [
    "attribute='Customer ID'\n",
    "outcome='Class'\n",
    "gini_index(attribute,outcome,data)"
   ]
  },
  {
   "cell_type": "markdown",
   "metadata": {},
   "source": [
    "##### c. Compute the Gini index for the Gender attribute"
   ]
  },
  {
   "cell_type": "code",
   "execution_count": 266,
   "metadata": {},
   "outputs": [
    {
     "name": "stdout",
     "output_type": "stream",
     "text": [
      "['M' 'F']\n",
      "The overall Gini Index is  0.5\n",
      "10\n",
      "0.48\n",
      "10\n",
      "0.48\n",
      "Gini Index for the attribute  Gender is  0.48\n",
      "The Gain of Gini Index for the attribute  Gender is  0.020000000000000018\n"
     ]
    },
    {
     "data": {
      "text/plain": [
       "0.48"
      ]
     },
     "execution_count": 266,
     "metadata": {},
     "output_type": "execute_result"
    }
   ],
   "source": [
    "attribute='Gender'\n",
    "outcome='Class'\n",
    "gini_index(attribute,outcome,data)"
   ]
  },
  {
   "cell_type": "markdown",
   "metadata": {},
   "source": [
    "##### d. Compute the Gini index for the Car Type attribute using multiple split.\n"
   ]
  },
  {
   "cell_type": "code",
   "execution_count": 267,
   "metadata": {},
   "outputs": [
    {
     "name": "stdout",
     "output_type": "stream",
     "text": [
      "['Family' 'Sports' 'Luxury']\n",
      "The overall Gini Index is  0.5\n",
      "4\n",
      "0.375\n",
      "8\n",
      "0.0\n",
      "8\n",
      "0.21875\n",
      "Gini Index for the attribute  Car Type is  0.16250000000000003\n",
      "The Gain of Gini Index for the attribute  Car Type is  0.33749999999999997\n"
     ]
    },
    {
     "data": {
      "text/plain": [
       "0.16250000000000003"
      ]
     },
     "execution_count": 267,
     "metadata": {},
     "output_type": "execute_result"
    }
   ],
   "source": [
    "attribute='Car Type'\n",
    "outcome='Class'\n",
    "gini_index(attribute,outcome,data)"
   ]
  },
  {
   "cell_type": "markdown",
   "metadata": {},
   "source": [
    "##### e.\tCompute the Gini index for the Shirt Size attribute using multiple split."
   ]
  },
  {
   "cell_type": "code",
   "execution_count": 268,
   "metadata": {},
   "outputs": [
    {
     "name": "stdout",
     "output_type": "stream",
     "text": [
      "['Small' 'Medium' 'Large' 'Extra Large']\n",
      "The overall Gini Index is  0.5\n",
      "5\n",
      "0.48\n",
      "7\n",
      "0.48979591836734704\n",
      "4\n",
      "0.5\n",
      "4\n",
      "0.5\n",
      "Gini Index for the attribute  Shirt Size is  0.49142857142857144\n",
      "The Gain of Gini Index for the attribute  Shirt Size is  0.008571428571428563\n"
     ]
    },
    {
     "data": {
      "text/plain": [
       "0.49142857142857144"
      ]
     },
     "execution_count": 268,
     "metadata": {},
     "output_type": "execute_result"
    }
   ],
   "source": [
    "attribute='Shirt Size'\n",
    "outcome='Class'\n",
    "gini_index(attribute,outcome,data)"
   ]
  },
  {
   "cell_type": "markdown",
   "metadata": {},
   "source": [
    "##### Problem 3"
   ]
  },
  {
   "cell_type": "code",
   "execution_count": 269,
   "metadata": {},
   "outputs": [
    {
     "data": {
      "text/html": [
       "<div>\n",
       "<style scoped>\n",
       "    .dataframe tbody tr th:only-of-type {\n",
       "        vertical-align: middle;\n",
       "    }\n",
       "\n",
       "    .dataframe tbody tr th {\n",
       "        vertical-align: top;\n",
       "    }\n",
       "\n",
       "    .dataframe thead th {\n",
       "        text-align: right;\n",
       "    }\n",
       "</style>\n",
       "<table border=\"1\" class=\"dataframe\">\n",
       "  <thead>\n",
       "    <tr style=\"text-align: right;\">\n",
       "      <th></th>\n",
       "      <th>Instance</th>\n",
       "      <th>a1</th>\n",
       "      <th>a2</th>\n",
       "      <th>a3</th>\n",
       "      <th>Target Class</th>\n",
       "    </tr>\n",
       "  </thead>\n",
       "  <tbody>\n",
       "    <tr>\n",
       "      <th>0</th>\n",
       "      <td>1</td>\n",
       "      <td>T</td>\n",
       "      <td>T</td>\n",
       "      <td>1</td>\n",
       "      <td>+</td>\n",
       "    </tr>\n",
       "    <tr>\n",
       "      <th>1</th>\n",
       "      <td>2</td>\n",
       "      <td>T</td>\n",
       "      <td>T</td>\n",
       "      <td>6</td>\n",
       "      <td>+</td>\n",
       "    </tr>\n",
       "    <tr>\n",
       "      <th>2</th>\n",
       "      <td>3</td>\n",
       "      <td>T</td>\n",
       "      <td>F</td>\n",
       "      <td>5</td>\n",
       "      <td>-</td>\n",
       "    </tr>\n",
       "    <tr>\n",
       "      <th>3</th>\n",
       "      <td>4</td>\n",
       "      <td>F</td>\n",
       "      <td>F</td>\n",
       "      <td>4</td>\n",
       "      <td>+</td>\n",
       "    </tr>\n",
       "    <tr>\n",
       "      <th>4</th>\n",
       "      <td>5</td>\n",
       "      <td>F</td>\n",
       "      <td>T</td>\n",
       "      <td>7</td>\n",
       "      <td>-</td>\n",
       "    </tr>\n",
       "    <tr>\n",
       "      <th>5</th>\n",
       "      <td>6</td>\n",
       "      <td>F</td>\n",
       "      <td>T</td>\n",
       "      <td>3</td>\n",
       "      <td>-</td>\n",
       "    </tr>\n",
       "    <tr>\n",
       "      <th>6</th>\n",
       "      <td>7</td>\n",
       "      <td>F</td>\n",
       "      <td>F</td>\n",
       "      <td>8</td>\n",
       "      <td>-</td>\n",
       "    </tr>\n",
       "    <tr>\n",
       "      <th>7</th>\n",
       "      <td>8</td>\n",
       "      <td>T</td>\n",
       "      <td>F</td>\n",
       "      <td>7</td>\n",
       "      <td>+</td>\n",
       "    </tr>\n",
       "    <tr>\n",
       "      <th>8</th>\n",
       "      <td>9</td>\n",
       "      <td>F</td>\n",
       "      <td>T</td>\n",
       "      <td>5</td>\n",
       "      <td>-</td>\n",
       "    </tr>\n",
       "  </tbody>\n",
       "</table>\n",
       "</div>"
      ],
      "text/plain": [
       "   Instance a1 a2  a3 Target Class\n",
       "0         1  T  T   1            +\n",
       "1         2  T  T   6            +\n",
       "2         3  T  F   5            -\n",
       "3         4  F  F   4            +\n",
       "4         5  F  T   7            -\n",
       "5         6  F  T   3            -\n",
       "6         7  F  F   8            -\n",
       "7         8  T  F   7            +\n",
       "8         9  F  T   5            -"
      ]
     },
     "execution_count": 269,
     "metadata": {},
     "output_type": "execute_result"
    }
   ],
   "source": [
    "data=pd.DataFrame({'Instance':[*range(1,10)],\n",
    "      'a1':['T','T','T','F','F','F','F','T','F'],\n",
    "      'a2':['T','T','F','F','T','T','F','F','T'],\n",
    "      'a3':[1,6,5,4,7,3,8,7,5],\n",
    "      'Target Class':['+','+','-','+','-','-','-','+','-']})\n",
    "data"
   ]
  },
  {
   "cell_type": "markdown",
   "metadata": {},
   "source": [
    "##### a.\tWhat is the entropy of this collection of training examples with respect to the positive class?"
   ]
  },
  {
   "cell_type": "code",
   "execution_count": 270,
   "metadata": {},
   "outputs": [
    {
     "name": "stdout",
     "output_type": "stream",
     "text": [
      "The overal entropy is 0.9910760598382222\n",
      "['+' '-']\n",
      "4\n",
      "5\n",
      "Information Gain for the attribute  Target Class is  0.9910760598382222\n"
     ]
    },
    {
     "data": {
      "text/plain": [
       "0.9910760598382222"
      ]
     },
     "execution_count": 270,
     "metadata": {},
     "output_type": "execute_result"
    }
   ],
   "source": [
    "attribute='Target Class'\n",
    "outcome='Target Class'\n",
    "entropy(attribute,outcome,data)"
   ]
  },
  {
   "cell_type": "markdown",
   "metadata": {},
   "source": [
    "##### b. What are the information gains of a1  and a2  relative to these training examples?"
   ]
  },
  {
   "cell_type": "code",
   "execution_count": 271,
   "metadata": {},
   "outputs": [
    {
     "name": "stdout",
     "output_type": "stream",
     "text": [
      "The overal entropy is 0.9910760598382222\n",
      "['T' 'F']\n",
      "4\n",
      "5\n",
      "Information Gain for the attribute  a1 is  0.22943684069673975\n",
      "The overal entropy is 0.9910760598382222\n",
      "['T' 'F']\n",
      "5\n",
      "4\n",
      "Information Gain for the attribute  a2 is  0.007214618474517431\n"
     ]
    },
    {
     "data": {
      "text/plain": [
       "0.007214618474517431"
      ]
     },
     "execution_count": 271,
     "metadata": {},
     "output_type": "execute_result"
    }
   ],
   "source": [
    "attribute='a1'\n",
    "outcome='Target Class'\n",
    "entropy(attribute,outcome,data)\n",
    "attribute='a2'\n",
    "outcome='Target Class'\n",
    "entropy(attribute,outcome,data)\n"
   ]
  },
  {
   "cell_type": "markdown",
   "metadata": {},
   "source": [
    "##### c.\tFor a3,  which is a continues attribute, compute the information gain for every possible split."
   ]
  },
  {
   "cell_type": "code",
   "execution_count": 272,
   "metadata": {},
   "outputs": [
    {
     "name": "stdout",
     "output_type": "stream",
     "text": [
      "For Split Value:  1.5\n",
      "The overal entropy is 0.9910760598382222\n",
      "[0 1]\n",
      "1\n",
      "8\n",
      "Information Gain for the attribute  new is  0.14269027946047563\n",
      "   Instance a1 a2  a3 Target Class  new\n",
      "0         1  T  T   1            +    0\n",
      "1         2  T  T   6            +    1\n",
      "2         3  T  F   5            -    1\n",
      "3         4  F  F   4            +    1\n",
      "4         5  F  T   7            -    1\n",
      "5         6  F  T   3            -    1\n",
      "6         7  F  F   8            -    1\n",
      "7         8  T  F   7            +    1\n",
      "8         9  F  T   5            -    1\n",
      "For Split Value:  3.5\n",
      "The overal entropy is 0.9910760598382222\n",
      "[0 1]\n",
      "2\n",
      "7\n",
      "Information Gain for the attribute  new is  0.0025652873671375698\n",
      "   Instance a1 a2  a3 Target Class  new\n",
      "0         1  T  T   1            +    0\n",
      "1         2  T  T   6            +    1\n",
      "2         3  T  F   5            -    1\n",
      "3         4  F  F   4            +    1\n",
      "4         5  F  T   7            -    1\n",
      "5         6  F  T   3            -    0\n",
      "6         7  F  F   8            -    1\n",
      "7         8  T  F   7            +    1\n",
      "8         9  F  T   5            -    1\n",
      "For Split Value:  4.5\n",
      "The overal entropy is 0.9910760598382222\n",
      "[0 1]\n",
      "3\n",
      "6\n",
      "Information Gain for the attribute  new is  0.07278022578373267\n",
      "   Instance a1 a2  a3 Target Class  new\n",
      "0         1  T  T   1            +    0\n",
      "1         2  T  T   6            +    1\n",
      "2         3  T  F   5            -    1\n",
      "3         4  F  F   4            +    0\n",
      "4         5  F  T   7            -    1\n",
      "5         6  F  T   3            -    0\n",
      "6         7  F  F   8            -    1\n",
      "7         8  T  F   7            +    1\n",
      "8         9  F  T   5            -    1\n",
      "For Split Value:  5.5\n",
      "The overal entropy is 0.9910760598382222\n",
      "[0 1]\n",
      "5\n",
      "4\n",
      "Information Gain for the attribute  new is  0.007214618474517431\n",
      "   Instance a1 a2  a3 Target Class  new\n",
      "0         1  T  T   1            +    0\n",
      "1         2  T  T   6            +    1\n",
      "2         3  T  F   5            -    0\n",
      "3         4  F  F   4            +    0\n",
      "4         5  F  T   7            -    1\n",
      "5         6  F  T   3            -    0\n",
      "6         7  F  F   8            -    1\n",
      "7         8  T  F   7            +    1\n",
      "8         9  F  T   5            -    0\n",
      "For Split Value:  6.5\n",
      "The overal entropy is 0.9910760598382222\n",
      "[0 1]\n",
      "6\n",
      "3\n",
      "Information Gain for the attribute  new is  0.018310781820059074\n",
      "   Instance a1 a2  a3 Target Class  new\n",
      "0         1  T  T   1            +    0\n",
      "1         2  T  T   6            +    0\n",
      "2         3  T  F   5            -    0\n",
      "3         4  F  F   4            +    0\n",
      "4         5  F  T   7            -    1\n",
      "5         6  F  T   3            -    0\n",
      "6         7  F  F   8            -    1\n",
      "7         8  T  F   7            +    1\n",
      "8         9  F  T   5            -    0\n",
      "For Split Value:  7.5\n",
      "The overal entropy is 0.9910760598382222\n",
      "[0 1]\n",
      "8\n",
      "1\n",
      "Information Gain for the attribute  new is  0.10218717094933338\n",
      "   Instance a1 a2  a3 Target Class  new\n",
      "0         1  T  T   1            +    0\n",
      "1         2  T  T   6            +    0\n",
      "2         3  T  F   5            -    0\n",
      "3         4  F  F   4            +    0\n",
      "4         5  F  T   7            -    0\n",
      "5         6  F  T   3            -    0\n",
      "6         7  F  F   8            -    1\n",
      "7         8  T  F   7            +    0\n",
      "8         9  F  T   5            -    0\n"
     ]
    }
   ],
   "source": [
    "attribute='a3'\n",
    "outcome='Target Class'\n",
    "entropy(attribute,outcome,data,split_val=1.5)\n",
    "print(data)\n",
    "entropy(attribute,outcome,data,split_val=3.5)\n",
    "print(data)\n",
    "entropy(attribute,outcome,data,split_val=4.5)\n",
    "print(data)\n",
    "entropy(attribute,outcome,data,split_val=5.5)\n",
    "print(data)\n",
    "entropy(attribute,outcome,data,split_val=6.5)\n",
    "print(data)\n",
    "entropy(attribute,outcome,data,split_val=7.5)\n",
    "print(data)"
   ]
  },
  {
   "attachments": {},
   "cell_type": "markdown",
   "metadata": {},
   "source": [
    "##### e.\tWhat is the best split (between a1 and a2 ) according to the classification error rate?"
   ]
  },
  {
   "cell_type": "code",
   "execution_count": 273,
   "metadata": {},
   "outputs": [
    {
     "name": "stdout",
     "output_type": "stream",
     "text": [
      "['T' 'F']\n",
      "The overal errot is 0\n",
      "4\n",
      "5\n",
      "Classification for the attribute  a1 is  0.2222222222222222\n",
      "['T' 'F']\n",
      "The overal errot is 0\n",
      "5\n",
      "4\n",
      "Classification for the attribute  a2 is  0.4444444444444444\n"
     ]
    },
    {
     "data": {
      "text/plain": [
       "0.4444444444444444"
      ]
     },
     "execution_count": 273,
     "metadata": {},
     "output_type": "execute_result"
    }
   ],
   "source": [
    "attribute='a1'\n",
    "outcome='Target Class'\n",
    "classification_error(attribute,outcome,data)\n",
    "attribute='a2'\n",
    "outcome='Target Class'\n",
    "classification_error(attribute,outcome,data)\n"
   ]
  },
  {
   "attachments": {},
   "cell_type": "markdown",
   "metadata": {},
   "source": [
    "###### f. \tWhat is the best split (between a1 and a2) according to the Gini Index?\n",
    " "
   ]
  },
  {
   "cell_type": "code",
   "execution_count": 274,
   "metadata": {},
   "outputs": [
    {
     "name": "stdout",
     "output_type": "stream",
     "text": [
      "['T' 'F']\n",
      "The overall Gini Index is  0.49382716049382713\n",
      "4\n",
      "0.375\n",
      "5\n",
      "0.31999999999999984\n",
      "Gini Index for the attribute  a1 is  0.34444444444444433\n",
      "The Gain of Gini Index for the attribute  a1 is  0.1493827160493828\n",
      "['T' 'F']\n",
      "The overall Gini Index is  0.49382716049382713\n",
      "5\n",
      "0.48\n",
      "4\n",
      "0.5\n",
      "Gini Index for the attribute  a2 is  0.4888888888888889\n",
      "The Gain of Gini Index for the attribute  a2 is  0.00493827160493826\n"
     ]
    },
    {
     "data": {
      "text/plain": [
       "0.4888888888888889"
      ]
     },
     "execution_count": 274,
     "metadata": {},
     "output_type": "execute_result"
    }
   ],
   "source": [
    "attribute='a1'\n",
    "outcome='Target Class'\n",
    "gini_index(attribute,outcome,data)\n",
    "attribute='a2'\n",
    "outcome='Target Class'\n",
    "gini_index(attribute,outcome,data)\n"
   ]
  },
  {
   "cell_type": "markdown",
   "metadata": {},
   "source": [
    "##### Problem 5"
   ]
  },
  {
   "cell_type": "code",
   "execution_count": 275,
   "metadata": {},
   "outputs": [
    {
     "data": {
      "text/html": [
       "<div>\n",
       "<style scoped>\n",
       "    .dataframe tbody tr th:only-of-type {\n",
       "        vertical-align: middle;\n",
       "    }\n",
       "\n",
       "    .dataframe tbody tr th {\n",
       "        vertical-align: top;\n",
       "    }\n",
       "\n",
       "    .dataframe thead th {\n",
       "        text-align: right;\n",
       "    }\n",
       "</style>\n",
       "<table border=\"1\" class=\"dataframe\">\n",
       "  <thead>\n",
       "    <tr style=\"text-align: right;\">\n",
       "      <th></th>\n",
       "      <th>A</th>\n",
       "      <th>B</th>\n",
       "      <th>Class Label</th>\n",
       "    </tr>\n",
       "  </thead>\n",
       "  <tbody>\n",
       "    <tr>\n",
       "      <th>0</th>\n",
       "      <td>T</td>\n",
       "      <td>F</td>\n",
       "      <td>+</td>\n",
       "    </tr>\n",
       "    <tr>\n",
       "      <th>1</th>\n",
       "      <td>T</td>\n",
       "      <td>T</td>\n",
       "      <td>+</td>\n",
       "    </tr>\n",
       "    <tr>\n",
       "      <th>2</th>\n",
       "      <td>T</td>\n",
       "      <td>T</td>\n",
       "      <td>+</td>\n",
       "    </tr>\n",
       "    <tr>\n",
       "      <th>3</th>\n",
       "      <td>T</td>\n",
       "      <td>F</td>\n",
       "      <td>-</td>\n",
       "    </tr>\n",
       "    <tr>\n",
       "      <th>4</th>\n",
       "      <td>T</td>\n",
       "      <td>T</td>\n",
       "      <td>+</td>\n",
       "    </tr>\n",
       "    <tr>\n",
       "      <th>5</th>\n",
       "      <td>F</td>\n",
       "      <td>F</td>\n",
       "      <td>-</td>\n",
       "    </tr>\n",
       "    <tr>\n",
       "      <th>6</th>\n",
       "      <td>F</td>\n",
       "      <td>F</td>\n",
       "      <td>-</td>\n",
       "    </tr>\n",
       "    <tr>\n",
       "      <th>7</th>\n",
       "      <td>F</td>\n",
       "      <td>F</td>\n",
       "      <td>-</td>\n",
       "    </tr>\n",
       "    <tr>\n",
       "      <th>8</th>\n",
       "      <td>T</td>\n",
       "      <td>T</td>\n",
       "      <td>-</td>\n",
       "    </tr>\n",
       "    <tr>\n",
       "      <th>9</th>\n",
       "      <td>T</td>\n",
       "      <td>F</td>\n",
       "      <td>-</td>\n",
       "    </tr>\n",
       "  </tbody>\n",
       "</table>\n",
       "</div>"
      ],
      "text/plain": [
       "   A  B Class Label\n",
       "0  T  F           +\n",
       "1  T  T           +\n",
       "2  T  T           +\n",
       "3  T  F           -\n",
       "4  T  T           +\n",
       "5  F  F           -\n",
       "6  F  F           -\n",
       "7  F  F           -\n",
       "8  T  T           -\n",
       "9  T  F           -"
      ]
     },
     "execution_count": 275,
     "metadata": {},
     "output_type": "execute_result"
    }
   ],
   "source": [
    "data=pd.DataFrame({'A':['T','T','T','T','T','F','F','F','T','T'],\n",
    "      'B':['F','T','T','F','T','F','F','F','T','F'],\n",
    "      'Class Label':['+','+','+','-','+','-','-','-','-','-']})\n",
    "data"
   ]
  },
  {
   "cell_type": "markdown",
   "metadata": {},
   "source": [
    "##### a.\tCalculate the information gain when splitting on A and B. Which attribute would the decision tree induction algorithm choose?"
   ]
  },
  {
   "cell_type": "code",
   "execution_count": 276,
   "metadata": {},
   "outputs": [
    {
     "name": "stdout",
     "output_type": "stream",
     "text": [
      "The overal entropy is 0.9709505944546686\n",
      "['T' 'F']\n",
      "7\n",
      "3\n",
      "Information Gain for the attribute  A is  0.2812908992306925\n",
      "The overal entropy is 0.9709505944546686\n",
      "['F' 'T']\n",
      "6\n",
      "4\n",
      "Information Gain for the attribute  B is  0.256425891682003\n"
     ]
    },
    {
     "data": {
      "text/plain": [
       "0.256425891682003"
      ]
     },
     "execution_count": 276,
     "metadata": {},
     "output_type": "execute_result"
    }
   ],
   "source": [
    "attribute='A'\n",
    "outcome='Class Label'\n",
    "entropy(attribute,outcome,data)\n",
    "attribute='B'\n",
    "outcome='Class Label'\n",
    "entropy(attribute,outcome,data)\n"
   ]
  },
  {
   "cell_type": "markdown",
   "metadata": {},
   "source": [
    "##### b.\tCalculate the gain in the Gini index when splitting on A and B. Which attribute would the decision tree induction algorithm choose?"
   ]
  },
  {
   "cell_type": "code",
   "execution_count": 277,
   "metadata": {},
   "outputs": [
    {
     "name": "stdout",
     "output_type": "stream",
     "text": [
      "['T' 'F']\n",
      "The overall Gini Index is  0.48\n",
      "7\n",
      "0.48979591836734704\n",
      "3\n",
      "0.0\n",
      "Gini Index for the attribute  A is  0.3428571428571429\n",
      "The Gain of Gini Index for the attribute  A is  0.13714285714285707\n",
      "['F' 'T']\n",
      "The overall Gini Index is  0.48\n",
      "6\n",
      "0.2777777777777777\n",
      "4\n",
      "0.375\n",
      "Gini Index for the attribute  B is  0.31666666666666665\n",
      "The Gain of Gini Index for the attribute  B is  0.16333333333333333\n"
     ]
    },
    {
     "data": {
      "text/plain": [
       "0.31666666666666665"
      ]
     },
     "execution_count": 277,
     "metadata": {},
     "output_type": "execute_result"
    }
   ],
   "source": [
    "attribute='A'\n",
    "outcome='Class Label'\n",
    "gini_index(attribute,outcome,data)\n",
    "attribute='B'\n",
    "outcome='Class Label'\n",
    "gini_index(attribute,outcome,data)\n"
   ]
  },
  {
   "cell_type": "markdown",
   "metadata": {},
   "source": [
    "##### problem 6"
   ]
  },
  {
   "cell_type": "code",
   "execution_count": 303,
   "metadata": {},
   "outputs": [
    {
     "data": {
      "text/html": [
       "<div>\n",
       "<style scoped>\n",
       "    .dataframe tbody tr th:only-of-type {\n",
       "        vertical-align: middle;\n",
       "    }\n",
       "\n",
       "    .dataframe tbody tr th {\n",
       "        vertical-align: top;\n",
       "    }\n",
       "\n",
       "    .dataframe thead th {\n",
       "        text-align: right;\n",
       "    }\n",
       "</style>\n",
       "<table border=\"1\" class=\"dataframe\">\n",
       "  <thead>\n",
       "    <tr style=\"text-align: right;\">\n",
       "      <th></th>\n",
       "      <th>X</th>\n",
       "      <th>Y</th>\n",
       "      <th>Z</th>\n",
       "      <th>No. of Class C1 Examples</th>\n",
       "      <th>No. of Class C2 Examples</th>\n",
       "    </tr>\n",
       "  </thead>\n",
       "  <tbody>\n",
       "    <tr>\n",
       "      <th>0</th>\n",
       "      <td>0</td>\n",
       "      <td>0</td>\n",
       "      <td>0</td>\n",
       "      <td>5</td>\n",
       "      <td>40</td>\n",
       "    </tr>\n",
       "    <tr>\n",
       "      <th>1</th>\n",
       "      <td>0</td>\n",
       "      <td>0</td>\n",
       "      <td>1</td>\n",
       "      <td>0</td>\n",
       "      <td>15</td>\n",
       "    </tr>\n",
       "    <tr>\n",
       "      <th>2</th>\n",
       "      <td>0</td>\n",
       "      <td>1</td>\n",
       "      <td>0</td>\n",
       "      <td>10</td>\n",
       "      <td>5</td>\n",
       "    </tr>\n",
       "    <tr>\n",
       "      <th>3</th>\n",
       "      <td>0</td>\n",
       "      <td>1</td>\n",
       "      <td>1</td>\n",
       "      <td>45</td>\n",
       "      <td>0</td>\n",
       "    </tr>\n",
       "    <tr>\n",
       "      <th>4</th>\n",
       "      <td>1</td>\n",
       "      <td>0</td>\n",
       "      <td>0</td>\n",
       "      <td>10</td>\n",
       "      <td>5</td>\n",
       "    </tr>\n",
       "    <tr>\n",
       "      <th>5</th>\n",
       "      <td>1</td>\n",
       "      <td>0</td>\n",
       "      <td>1</td>\n",
       "      <td>25</td>\n",
       "      <td>0</td>\n",
       "    </tr>\n",
       "    <tr>\n",
       "      <th>6</th>\n",
       "      <td>1</td>\n",
       "      <td>1</td>\n",
       "      <td>0</td>\n",
       "      <td>5</td>\n",
       "      <td>20</td>\n",
       "    </tr>\n",
       "    <tr>\n",
       "      <th>7</th>\n",
       "      <td>1</td>\n",
       "      <td>1</td>\n",
       "      <td>1</td>\n",
       "      <td>0</td>\n",
       "      <td>15</td>\n",
       "    </tr>\n",
       "  </tbody>\n",
       "</table>\n",
       "</div>"
      ],
      "text/plain": [
       "   X  Y  Z  No. of Class C1 Examples  No. of Class C2 Examples\n",
       "0  0  0  0                         5                        40\n",
       "1  0  0  1                         0                        15\n",
       "2  0  1  0                        10                         5\n",
       "3  0  1  1                        45                         0\n",
       "4  1  0  0                        10                         5\n",
       "5  1  0  1                        25                         0\n",
       "6  1  1  0                         5                        20\n",
       "7  1  1  1                         0                        15"
      ]
     },
     "execution_count": 303,
     "metadata": {},
     "output_type": "execute_result"
    }
   ],
   "source": [
    "data=pd.DataFrame({'X':[0,0,0,0,1,1,1,1],\n",
    "      'Y':[0,0,1,1,0,0,1,1],\n",
    "      'Z':[0,1,0,1,0,1,0,1],\n",
    "      'No. of Class C1 Examples':[5,0,10,45,10,25,5,0],\n",
    "      'No. of Class C2 Examples':[40,15,5,0,5,0,20,15]})\n",
    "data"
   ]
  },
  {
   "attachments": {},
   "cell_type": "markdown",
   "metadata": {},
   "source": [
    "##### a.\tCompute a two-level decision tree using the greedy approach described in this chapter. Use the classification error rate as the criterion for splitting. What is the overall error rate of the induced tree?"
   ]
  },
  {
   "cell_type": "code",
   "execution_count": 328,
   "metadata": {},
   "outputs": [
    {
     "name": "stdout",
     "output_type": "stream",
     "text": [
      "   X  Y  Z  No. of Class C1 Examples  No. of Class C2 Examples\n",
      "0  0  0  0                         5                        40\n",
      "1  0  0  1                         0                        15\n",
      "2  0  1  0                        10                         5\n",
      "3  0  1  1                        45                         0\n",
      "4  1  0  0                        10                         5\n",
      "5  1  0  1                        25                         0\n",
      "6  1  1  0                         5                        20\n",
      "7  1  1  1                         0                        15\n",
      "['0' '1']\n",
      "The total number of examples is:  200\n",
      "The  No. of Class C1 Examples  class number of for attribute  X 0 is  60\n",
      "The  No. of Class C2 Examples  class number of for attribute  X 0 is  60\n",
      "The  No. of Class C1 Examples  class number of for attribute  X 1 is  40\n",
      "The  No. of Class C2 Examples  class number of for attribute  X 1 is  40\n",
      "Error Rate for the attribute  X is  0.5\n",
      "['0' '1']\n",
      "The total number of examples is:  200\n",
      "The  No. of Class C1 Examples  class number of for attribute  Y 0 is  40\n",
      "The  No. of Class C2 Examples  class number of for attribute  Y 0 is  60\n",
      "The  No. of Class C1 Examples  class number of for attribute  Y 1 is  60\n",
      "The  No. of Class C2 Examples  class number of for attribute  Y 1 is  40\n",
      "Error Rate for the attribute  Y is  0.4\n",
      "['0' '1']\n",
      "The total number of examples is:  200\n",
      "The  No. of Class C1 Examples  class number of for attribute  Z 0 is  30\n",
      "The  No. of Class C2 Examples  class number of for attribute  Z 0 is  70\n",
      "The  No. of Class C1 Examples  class number of for attribute  Z 1 is  70\n",
      "The  No. of Class C2 Examples  class number of for attribute  Z 1 is  30\n",
      "Error Rate for the attribute  Z is  0.3\n",
      "   X  Y  Z  No. of Class C1 Examples  No. of Class C2 Examples\n",
      "0  0  0  0                         5                        40\n",
      "2  0  1  0                        10                         5\n",
      "4  1  0  0                        10                         5\n",
      "6  1  1  0                         5                        20\n",
      "['0' '1']\n",
      "The total number of examples is:  100\n",
      "The  No. of Class C1 Examples  class number of for attribute  X 0 is  15\n",
      "The  No. of Class C2 Examples  class number of for attribute  X 0 is  45\n",
      "The  No. of Class C1 Examples  class number of for attribute  X 1 is  15\n",
      "The  No. of Class C2 Examples  class number of for attribute  X 1 is  25\n",
      "Error Rate for the attribute  X is  0.3\n",
      "['0' '1']\n",
      "The total number of examples is:  100\n",
      "The  No. of Class C1 Examples  class number of for attribute  Y 0 is  15\n",
      "The  No. of Class C2 Examples  class number of for attribute  Y 0 is  45\n",
      "The  No. of Class C1 Examples  class number of for attribute  Y 1 is  15\n",
      "The  No. of Class C2 Examples  class number of for attribute  Y 1 is  25\n",
      "Error Rate for the attribute  Y is  0.3\n",
      "   X  Y  Z  No. of Class C1 Examples  No. of Class C2 Examples\n",
      "1  0  0  1                         0                        15\n",
      "3  0  1  1                        45                         0\n",
      "5  1  0  1                        25                         0\n",
      "7  1  1  1                         0                        15\n",
      "['0' '1']\n",
      "The total number of examples is:  100\n",
      "The  No. of Class C1 Examples  class number of for attribute  X 0 is  45\n",
      "The  No. of Class C2 Examples  class number of for attribute  X 0 is  15\n",
      "The  No. of Class C1 Examples  class number of for attribute  X 1 is  25\n",
      "The  No. of Class C2 Examples  class number of for attribute  X 1 is  15\n",
      "Error Rate for the attribute  X is  0.3\n",
      "['0' '1']\n",
      "The total number of examples is:  100\n",
      "The  No. of Class C1 Examples  class number of for attribute  Y 0 is  25\n",
      "The  No. of Class C2 Examples  class number of for attribute  Y 0 is  15\n",
      "The  No. of Class C1 Examples  class number of for attribute  Y 1 is  45\n",
      "The  No. of Class C2 Examples  class number of for attribute  Y 1 is  15\n",
      "Error Rate for the attribute  Y is  0.3\n"
     ]
    },
    {
     "name": "stderr",
     "output_type": "stream",
     "text": [
      "/anaconda3/lib/python3.6/site-packages/ipykernel_launcher.py:2: SettingWithCopyWarning: \n",
      "A value is trying to be set on a copy of a slice from a DataFrame.\n",
      "Try using .loc[row_indexer,col_indexer] = value instead\n",
      "\n",
      "See the caveats in the documentation: http://pandas.pydata.org/pandas-docs/stable/indexing.html#indexing-view-versus-copy\n",
      "  \n"
     ]
    },
    {
     "data": {
      "text/plain": [
       "0.3"
      ]
     },
     "execution_count": 328,
     "metadata": {},
     "output_type": "execute_result"
    }
   ],
   "source": [
    "def error_rate(attribute,outcome1,outcome2,data):\n",
    "    data[attribute]=data[attribute].astype(str)\n",
    "    print(data[attribute].unique())\n",
    "    error=0\n",
    "    p=0\n",
    "    total=data[outcome1].sum()+data[outcome2].sum()\n",
    "    print(\"The total number of examples is: \", total)\n",
    "    for branch in data[attribute].unique():\n",
    "        subtable=data[data[attribute]==branch]\n",
    "        total_outcome1=subtable[outcome1].sum()\n",
    "        total_outcome2=subtable[outcome2].sum()\n",
    "        p1=total_outcome1\n",
    "        p2=total_outcome2\n",
    "        print(\"The \", outcome1, \" class number of for attribute \",attribute,branch, \"is \", p1)\n",
    "        print(\"The \", outcome2, \" class number of for attribute \",attribute,branch, \"is \", p2)\n",
    "        p+=min(p1,p2)\n",
    "    error=p/total\n",
    "    print(\"Error Rate for the attribute \",attribute, \"is \" ,error)\n",
    "    return error\n",
    "print(data)\n",
    "## First level\n",
    "attribute='X'\n",
    "outcome1='No. of Class C1 Examples'\n",
    "outcome2='No. of Class C2 Examples'\n",
    "error_rate(attribute,outcome1,outcome2,data)\n",
    "attribute='Y'\n",
    "error_rate(attribute,outcome1,outcome2,data)\n",
    "attribute='Z'\n",
    "error_rate(attribute,outcome1,outcome2,data)\n",
    "\n",
    "## Second Level\n",
    "subdata=data[data['Z']=='0']\n",
    "print(subdata)\n",
    "attribute='X'\n",
    "outcome1='No. of Class C1 Examples'\n",
    "outcome2='No. of Class C2 Examples'\n",
    "error_rate(attribute,outcome1,outcome2,subdata)\n",
    "attribute='Y'\n",
    "error_rate(attribute,outcome1,outcome2,subdata)\n",
    "\n",
    "subdata=data[data['Z']=='1']\n",
    "print(subdata)\n",
    "attribute='X'\n",
    "outcome1='No. of Class C1 Examples'\n",
    "outcome2='No. of Class C2 Examples'\n",
    "error_rate(attribute,outcome1,outcome2,subdata)\n",
    "attribute='Y'\n",
    "error_rate(attribute,outcome1,outcome2,subdata)\n"
   ]
  },
  {
   "cell_type": "markdown",
   "metadata": {},
   "source": [
    "#####  b.\tRepeat part (a) using X as the first splitting attribute and then choose the best remaining attribute for splitting at each of the two successor nodes. What is the error rate of the induced tree?\n"
   ]
  },
  {
   "cell_type": "code",
   "execution_count": 325,
   "metadata": {},
   "outputs": [
    {
     "name": "stdout",
     "output_type": "stream",
     "text": [
      "   X  Y  Z  No. of Class C1 Examples  No. of Class C2 Examples\n",
      "0  0  0  0                         5                        40\n",
      "1  0  0  1                         0                        15\n",
      "2  0  1  0                        10                         5\n",
      "3  0  1  1                        45                         0\n",
      "['0' '1']\n",
      "The total number of examples is:  120\n",
      "The  No. of Class C1 Examples  class number of for attribute  Y 0 is  5\n",
      "The  No. of Class C2 Examples  class number of for attribute  Y 0 is  55\n",
      "The  No. of Class C1 Examples  class number of for attribute  Y 1 is  55\n",
      "The  No. of Class C2 Examples  class number of for attribute  Y 1 is  5\n",
      "Error Rate for the attribute  Y is  0.08333333333333333\n",
      "['0' '1']\n",
      "The total number of examples is:  120\n",
      "The  No. of Class C1 Examples  class number of for attribute  Z 0 is  15\n",
      "The  No. of Class C2 Examples  class number of for attribute  Z 0 is  45\n",
      "The  No. of Class C1 Examples  class number of for attribute  Z 1 is  45\n",
      "The  No. of Class C2 Examples  class number of for attribute  Z 1 is  15\n",
      "Error Rate for the attribute  Z is  0.25\n",
      "   X  Y  Z  No. of Class C1 Examples  No. of Class C2 Examples\n",
      "4  1  0  0                        10                         5\n",
      "5  1  0  1                        25                         0\n",
      "6  1  1  0                         5                        20\n",
      "7  1  1  1                         0                        15\n",
      "['0' '1']\n",
      "The total number of examples is:  80\n",
      "The  No. of Class C1 Examples  class number of for attribute  Y 0 is  35\n",
      "The  No. of Class C2 Examples  class number of for attribute  Y 0 is  5\n",
      "The  No. of Class C1 Examples  class number of for attribute  Y 1 is  5\n",
      "The  No. of Class C2 Examples  class number of for attribute  Y 1 is  35\n",
      "Error Rate for the attribute  Y is  0.125\n"
     ]
    },
    {
     "name": "stderr",
     "output_type": "stream",
     "text": [
      "/anaconda3/lib/python3.6/site-packages/ipykernel_launcher.py:2: SettingWithCopyWarning: \n",
      "A value is trying to be set on a copy of a slice from a DataFrame.\n",
      "Try using .loc[row_indexer,col_indexer] = value instead\n",
      "\n",
      "See the caveats in the documentation: http://pandas.pydata.org/pandas-docs/stable/indexing.html#indexing-view-versus-copy\n",
      "  \n"
     ]
    },
    {
     "name": "stdout",
     "output_type": "stream",
     "text": [
      "['0' '1']\n",
      "The total number of examples is:  80\n",
      "The  No. of Class C1 Examples  class number of for attribute  Z 0 is  15\n",
      "The  No. of Class C2 Examples  class number of for attribute  Z 0 is  25\n",
      "The  No. of Class C1 Examples  class number of for attribute  Z 1 is  25\n",
      "The  No. of Class C2 Examples  class number of for attribute  Z 1 is  15\n",
      "Error Rate for the attribute  Z is  0.375\n"
     ]
    },
    {
     "data": {
      "text/plain": [
       "0.375"
      ]
     },
     "execution_count": 325,
     "metadata": {},
     "output_type": "execute_result"
    }
   ],
   "source": [
    "subdata=data[data['X']=='0']\n",
    "print(subdata)\n",
    "attribute='Y'\n",
    "outcome1='No. of Class C1 Examples'\n",
    "outcome2='No. of Class C2 Examples'\n",
    "error_rate(attribute,outcome1,outcome2,subdata)\n",
    "attribute='Z'\n",
    "error_rate(attribute,outcome1,outcome2,subdata)\n",
    "\n",
    "subdata=data[data['X']=='1']\n",
    "print(subdata)\n",
    "attribute='Y'\n",
    "outcome1='No. of Class C1 Examples'\n",
    "outcome2='No. of Class C2 Examples'\n",
    "error_rate(attribute,outcome1,outcome2,subdata)\n",
    "attribute='Z'\n",
    "error_rate(attribute,outcome1,outcome2,subdata)\n"
   ]
  },
  {
   "cell_type": "markdown",
   "metadata": {},
   "source": [
    "##### Problem 13"
   ]
  },
  {
   "cell_type": "code",
   "execution_count": 422,
   "metadata": {},
   "outputs": [
    {
     "data": {
      "text/html": [
       "<div>\n",
       "<style scoped>\n",
       "    .dataframe tbody tr th:only-of-type {\n",
       "        vertical-align: middle;\n",
       "    }\n",
       "\n",
       "    .dataframe tbody tr th {\n",
       "        vertical-align: top;\n",
       "    }\n",
       "\n",
       "    .dataframe thead th {\n",
       "        text-align: right;\n",
       "    }\n",
       "</style>\n",
       "<table border=\"1\" class=\"dataframe\">\n",
       "  <thead>\n",
       "    <tr style=\"text-align: right;\">\n",
       "      <th></th>\n",
       "      <th>X</th>\n",
       "      <th>Y</th>\n",
       "    </tr>\n",
       "  </thead>\n",
       "  <tbody>\n",
       "    <tr>\n",
       "      <th>0</th>\n",
       "      <td>0.5</td>\n",
       "      <td>-</td>\n",
       "    </tr>\n",
       "    <tr>\n",
       "      <th>1</th>\n",
       "      <td>3.0</td>\n",
       "      <td>-</td>\n",
       "    </tr>\n",
       "    <tr>\n",
       "      <th>2</th>\n",
       "      <td>4.5</td>\n",
       "      <td>+</td>\n",
       "    </tr>\n",
       "    <tr>\n",
       "      <th>3</th>\n",
       "      <td>4.6</td>\n",
       "      <td>+</td>\n",
       "    </tr>\n",
       "    <tr>\n",
       "      <th>4</th>\n",
       "      <td>4.9</td>\n",
       "      <td>+</td>\n",
       "    </tr>\n",
       "    <tr>\n",
       "      <th>5</th>\n",
       "      <td>5.2</td>\n",
       "      <td>-</td>\n",
       "    </tr>\n",
       "    <tr>\n",
       "      <th>6</th>\n",
       "      <td>5.3</td>\n",
       "      <td>-</td>\n",
       "    </tr>\n",
       "    <tr>\n",
       "      <th>7</th>\n",
       "      <td>5.5</td>\n",
       "      <td>+</td>\n",
       "    </tr>\n",
       "    <tr>\n",
       "      <th>8</th>\n",
       "      <td>7.0</td>\n",
       "      <td>-</td>\n",
       "    </tr>\n",
       "    <tr>\n",
       "      <th>9</th>\n",
       "      <td>9.5</td>\n",
       "      <td>-</td>\n",
       "    </tr>\n",
       "  </tbody>\n",
       "</table>\n",
       "</div>"
      ],
      "text/plain": [
       "     X  Y\n",
       "0  0.5  -\n",
       "1  3.0  -\n",
       "2  4.5  +\n",
       "3  4.6  +\n",
       "4  4.9  +\n",
       "5  5.2  -\n",
       "6  5.3  -\n",
       "7  5.5  +\n",
       "8  7.0  -\n",
       "9  9.5  -"
      ]
     },
     "execution_count": 422,
     "metadata": {},
     "output_type": "execute_result"
    }
   ],
   "source": [
    "data=pd.DataFrame({'X':[0.5,3,4.5,4.6,4.9,5.2,5.3,5.5,7,9.5],\n",
    "      'Y':['-','-','+','+','+','-','-','+','-','-']})\n",
    "data\n"
   ]
  },
  {
   "cell_type": "markdown",
   "metadata": {},
   "source": [
    "##### a.\tClassify the data point x=5.0 according to its 1-, 3-, 5-, and 9-nearest neighbors (using majority vote)."
   ]
  },
  {
   "cell_type": "code",
   "execution_count": 423,
   "metadata": {},
   "outputs": [
    {
     "name": "stdout",
     "output_type": "stream",
     "text": [
      "     X  Y  distance\n",
      "4  4.9  +       0.1\n",
      "The prediction of  1 -nearest neighbors is:  +\n",
      "     X  Y  distance\n",
      "4  4.9  +       0.1\n",
      "5  5.2  -       0.2\n",
      "6  5.3  -       0.3\n",
      "The prediction of  3 -nearest neighbors is:  -\n",
      "     X  Y  distance\n",
      "4  4.9  +       0.1\n",
      "5  5.2  -       0.2\n",
      "6  5.3  -       0.3\n",
      "3  4.6  +       0.4\n",
      "2  4.5  +       0.5\n",
      "The prediction of  5 -nearest neighbors is:  +\n",
      "     X  Y  distance\n",
      "4  4.9  +       0.1\n",
      "5  5.2  -       0.2\n",
      "6  5.3  -       0.3\n",
      "3  4.6  +       0.4\n",
      "2  4.5  +       0.5\n",
      "7  5.5  +       0.5\n",
      "1  3.0  -       2.0\n",
      "8  7.0  -       2.0\n",
      "0  0.5  -       4.5\n",
      "The prediction of  9 -nearest neighbors is:  -\n",
      "['+', '-', '+', '-']\n",
      "The majority vote prediction of  [1, 3, 5, 9] -nearest neighbors is:  +\n"
     ]
    }
   ],
   "source": [
    "def nearest_neighbor(new_x,data,k):\n",
    "    data['distance']=''\n",
    "    data['distance']=abs(data['X']-new_x)\n",
    "    subdata=data.sort_values('distance',ascending = True).head(k)\n",
    "    print(subdata)\n",
    "    sublist=subdata['Y'].tolist()\n",
    "    pred=max(set(sublist), key = sublist.count)\n",
    "    print(\"The prediction of \", k ,'-nearest neighbors is: ', pred)\n",
    "    return pred\n",
    "\n",
    "new_x=5\n",
    "k_list=[1,3,5,9]\n",
    "pred_list=[]\n",
    "for i in k_list:\n",
    "    pred=nearest_neighbor(new_x,data,i)\n",
    "    pred_list.append(pred)\n",
    "print(pred_list)\n",
    "pred=max(set(pred_list), key = pred_list.count)\n",
    "print(\"The majority vote prediction of \", k_list ,'-nearest neighbors is: ', pred)"
   ]
  },
  {
   "cell_type": "markdown",
   "metadata": {},
   "source": [
    "##### b.\tRepeat the previous analysis using the distance-weighted voting approach described in Section 5.2.1."
   ]
  },
  {
   "cell_type": "code",
   "execution_count": 437,
   "metadata": {},
   "outputs": [
    {
     "name": "stdout",
     "output_type": "stream",
     "text": [
      "     X  Y  distance  weight\n",
      "4  4.9  +       0.1   100.0\n",
      "The prediction of  1 -nearest neighbors is:  +\n",
      "     X  Y  distance      weight\n",
      "4  4.9  +       0.1  100.000000\n",
      "5  5.2  -       0.2   25.000000\n",
      "6  5.3  -       0.3   11.111111\n",
      "The prediction of  3 -nearest neighbors is:  +\n",
      "     X  Y  distance      weight\n",
      "4  4.9  +       0.1  100.000000\n",
      "5  5.2  -       0.2   25.000000\n",
      "6  5.3  -       0.3   11.111111\n",
      "3  4.6  +       0.4    6.250000\n",
      "2  4.5  +       0.5    4.000000\n",
      "The prediction of  5 -nearest neighbors is:  +\n",
      "     X  Y  distance      weight\n",
      "4  4.9  +       0.1  100.000000\n",
      "5  5.2  -       0.2   25.000000\n",
      "6  5.3  -       0.3   11.111111\n",
      "3  4.6  +       0.4    6.250000\n",
      "2  4.5  +       0.5    4.000000\n",
      "7  5.5  +       0.5    4.000000\n",
      "1  3.0  -       2.0    0.250000\n",
      "8  7.0  -       2.0    0.250000\n",
      "0  0.5  -       4.5    0.049383\n",
      "The prediction of  9 -nearest neighbors is:  +\n",
      "['+', '+', '+', '+']\n",
      "The weighted-distance vote prediction of  [1, 3, 5, 9] -nearest neighbors is:  +\n"
     ]
    }
   ],
   "source": [
    "def weighted_nearest_neighbor(new_x,data,k):\n",
    "    data['distance']=''\n",
    "    data['weight']=''\n",
    "    data['distance']=abs(data['X']-new_x)\n",
    "    data['weight']=1/((data['X']-new_x)*(data['X']-new_x))\n",
    "    subdata=data.sort_values('distance',ascending = True).head(k)\n",
    "    print(subdata)\n",
    "    pos_weighted_vote=0\n",
    "    neg_weighted_vote=0\n",
    "    for i in subdata.index:\n",
    "        if subdata['Y'][i]=='+':\n",
    "            pos_weighted_vote+=subdata['weight'][i]\n",
    "        else:\n",
    "            neg_weighted_vote+=subdata['weight'][i]\n",
    "    if pos_weighted_vote>=neg_weighted_vote:\n",
    "        pred='+'\n",
    "    else:\n",
    "        pred='-'\n",
    "    print(\"The prediction of \", k ,'-nearest neighbors is: ', pred)\n",
    "    return pred\n",
    "\n",
    "new_x=5\n",
    "k_list=[1,3,5,9]\n",
    "pred_list=[]\n",
    "for i in k_list:\n",
    "    pred=weighted_nearest_neighbor(new_x,data,i)\n",
    "    pred_list.append(pred)\n",
    "print(pred_list)\n",
    "pred=max(set(pred_list), key = pred_list.count)\n",
    "print(\"The weighted-distance vote prediction of \", k_list ,'-nearest neighbors is: ', pred)"
   ]
  }
 ],
 "metadata": {
  "kernelspec": {
   "display_name": "Python 3",
   "language": "python",
   "name": "python3"
  },
  "language_info": {
   "codemirror_mode": {
    "name": "ipython",
    "version": 3
   },
   "file_extension": ".py",
   "mimetype": "text/x-python",
   "name": "python",
   "nbconvert_exporter": "python",
   "pygments_lexer": "ipython3",
   "version": "3.6.5"
  }
 },
 "nbformat": 4,
 "nbformat_minor": 2
}
